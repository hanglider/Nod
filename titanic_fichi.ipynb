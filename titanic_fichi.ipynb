{
 "cells": [
  {
   "cell_type": "code",
   "execution_count": 72,
   "id": "9303ee91",
   "metadata": {},
   "outputs": [],
   "source": [
    "import warnings\n",
    "warnings.filterwarnings(\"ignore\")"
   ]
  },
  {
   "cell_type": "code",
   "execution_count": 73,
   "id": "0c23432c",
   "metadata": {},
   "outputs": [],
   "source": [
    "import pandas as pd\n",
    "import numpy as np\n",
    "from sklearn.model_selection import train_test_split\n",
    "from sklearn.linear_model import LogisticRegression\n",
    "from sklearn.tree import DecisionTreeClassifier\n",
    "from sklearn.decomposition import PCA\n",
    "from sklearn.metrics import accuracy_score\n",
    "import warnings\n",
    "from catboost import CatBoostClassifier  \n",
    "\n",
    "results = {} "
   ]
  },
  {
   "cell_type": "code",
   "execution_count": 74,
   "id": "43aa9d19",
   "metadata": {},
   "outputs": [],
   "source": [
    "train_data = pd.read_csv('train.csv')\n",
    "test_data = pd.read_csv('test.csv')"
   ]
  },
  {
   "cell_type": "code",
   "execution_count": 75,
   "id": "c09f1c73",
   "metadata": {},
   "outputs": [],
   "source": [
    "# Добавляем метку для разделения\n",
    "train_data['from_train'] = True\n",
    "test_data['from_train'] = False"
   ]
  },
  {
   "cell_type": "code",
   "execution_count": 76,
   "id": "5a739fd3",
   "metadata": {},
   "outputs": [],
   "source": [
    "# В тесте ставим NaN для цели, чтоб конкатилось\n",
    "test_data['Transported'] = np.nan"
   ]
  },
  {
   "cell_type": "code",
   "execution_count": 77,
   "id": "5e10eda9",
   "metadata": {},
   "outputs": [],
   "source": [
    "# Склеиваем всё в один датафрейм\n",
    "full_data = pd.concat([train_data, test_data], ignore_index=True)"
   ]
  },
  {
   "cell_type": "code",
   "execution_count": 78,
   "id": "fcd35a17",
   "metadata": {},
   "outputs": [],
   "source": [
    "# Группа и размер\n",
    "full_data['pass_group'] = full_data['PassengerId'].apply(lambda x: x.split('_')[0])\n",
    "full_data['group_size'] = full_data.groupby('pass_group')['pass_group'].transform('count')"
   ]
  },
  {
   "cell_type": "code",
   "execution_count": null,
   "id": "7544ce1e",
   "metadata": {},
   "outputs": [],
   "source": [
    "# Кабин: разбираем на части\n",
    "cabin_parts = full_data['Cabin'].str.split('/', expand=True)\n",
    "full_data['deck_level'] = cabin_parts[0].fillna('Z')  \n",
    "full_data['cabin_side'] = cabin_parts[2].fillna('Z')\n",
    "full_data['deck_side_combo'] = full_data['deck_level'] + '_' + full_data['cabin_side']"
   ]
  },
  {
   "cell_type": "code",
   "execution_count": 80,
   "id": "0d63d53f",
   "metadata": {},
   "outputs": [],
   "source": [
    "# Cryo и VIP - заполняем и кодируем\n",
    "cryo_mode = full_data['CryoSleep'].mode()[0]\n",
    "full_data['in_cryo'] = full_data['CryoSleep'].fillna(cryo_mode).map({True: 1, False: 0}).astype(int)\n",
    "\n",
    "vip_fill = full_data['VIP'].fillna(False)\n",
    "full_data['is_vip'] = vip_fill.map({True: 1, False: 0}).astype(int)\n",
    "\n",
    "# Траты: суммарные\n",
    "money_cols = ['RoomService', 'FoodCourt', 'ShoppingMall', 'Spa', 'VRDeck']\n",
    "full_data['total_money'] = full_data[money_cols].sum(axis=1, skipna=True)"
   ]
  },
  {
   "cell_type": "code",
   "execution_count": null,
   "id": "5ab6e16c",
   "metadata": {},
   "outputs": [],
   "source": [
    "# Был ли расход вообще? (бинарный индикатор \"тратил ли\")\n",
    "full_data['has_expenses'] = (full_data[money_cols].sum(axis=1) > 0).astype(int)"
   ]
  },
  {
   "cell_type": "code",
   "execution_count": null,
   "id": "35b22ed8",
   "metadata": {},
   "outputs": [],
   "source": [
    "# Возраст в группы \n",
    "def age_bucket(age):\n",
    "    if pd.isna(age):\n",
    "        return 'unknown'\n",
    "    elif age < 18:\n",
    "        return 'child'\n",
    "    elif age < 40:\n",
    "        return 'adult'\n",
    "    else:\n",
    "        return 'senior'\n",
    "\n",
    "full_data['age_group'] = full_data['Age'].apply(age_bucket)"
   ]
  },
  {
   "cell_type": "code",
   "execution_count": null,
   "id": "0e34fe1f",
   "metadata": {},
   "outputs": [],
   "source": [
    "# Одинокий ли? (GroupSize == 1)\n",
    "full_data['is_alone'] = (full_data['group_size'] == 1).astype(int)"
   ]
  },
  {
   "cell_type": "code",
   "execution_count": null,
   "id": "c542687a",
   "metadata": {},
   "outputs": [],
   "source": [
    "# Заполнение пропусков\n",
    "age_median = full_data['Age'].median()\n",
    "for col in ['Age'] + money_cols:\n",
    "    full_data[col] = full_data[col].fillna(full_data[col].median() if col != 'Age' else age_median)\n",
    "\n",
    "full_data['total_money'] = full_data['total_money'].fillna(0)  # Для новой фичи\n",
    "full_data['group_size'] = full_data['group_size'].fillna(1)"
   ]
  },
  {
   "cell_type": "code",
   "execution_count": 85,
   "id": "16802283",
   "metadata": {},
   "outputs": [],
   "source": [
    "# Категории заполняем модой\n",
    "for cat in ['HomePlanet', 'Destination']:\n",
    "    mode_val = full_data[cat].mode()[0]\n",
    "    full_data[cat] = full_data[cat].fillna(mode_val)"
   ]
  },
  {
   "cell_type": "code",
   "execution_count": 86,
   "id": "2c901704",
   "metadata": {},
   "outputs": [],
   "source": [
    "# Выкидываем мусор\n",
    "cols_to_drop = ['PassengerId', 'Cabin', 'Name', 'pass_group', 'CryoSleep', 'VIP']\n",
    "full_data = full_data.drop(columns=cols_to_drop)"
   ]
  },
  {
   "cell_type": "markdown",
   "id": "2b485c10",
   "metadata": {},
   "source": [
    "## Подготовка для моделей"
   ]
  },
  {
   "cell_type": "code",
   "execution_count": 87,
   "id": "d27ab6a6",
   "metadata": {},
   "outputs": [],
   "source": [
    "# Разделяем обратно\n",
    "train_full = full_data[full_data['from_train'] == True].copy()\n",
    "test_full = full_data[full_data['from_train'] == False].copy()"
   ]
  },
  {
   "cell_type": "code",
   "execution_count": 88,
   "id": "c5ab7217",
   "metadata": {},
   "outputs": [],
   "source": [
    "# Цель: 1/0\n",
    "target = train_full['Transported'].map({True: 1, False: 0})\n",
    "\n",
    "# Признаки\n",
    "features_train = train_full.drop(['from_train', 'Transported'], axis=1)\n",
    "features_test = test_full.drop(['from_train', 'Transported'], axis=1)\n",
    "\n",
    "# Сплит на train/val (80/20)\n",
    "X_tr, X_vl, y_tr, y_vl = train_test_split(features_train, target, test_size=0.2, random_state=123, stratify=target)"
   ]
  },
  {
   "cell_type": "code",
   "execution_count": 89,
   "id": "c4393505",
   "metadata": {},
   "outputs": [],
   "source": [
    "# One-hot: сначала dummies, потом выравниваем\n",
    "X_tr_dummy = pd.get_dummies(X_tr)\n",
    "X_vl_dummy = pd.get_dummies(X_vl)\n",
    "X_ts_dummy = pd.get_dummies(features_test)"
   ]
  },
  {
   "cell_type": "code",
   "execution_count": 90,
   "id": "dc6fb8e8",
   "metadata": {},
   "outputs": [],
   "source": [
    "# Выравниваем колонки (left join, 0 для отсутствующих)\n",
    "X_tr_dummy, X_vl_dummy = X_tr_dummy.align(X_vl_dummy, join='left', axis=1, fill_value=0)\n",
    "X_tr_dummy, X_ts_dummy = X_tr_dummy.align(X_ts_dummy, join='left', axis=1, fill_value=0)"
   ]
  },
  {
   "cell_type": "code",
   "execution_count": 91,
   "id": "b68292ac",
   "metadata": {},
   "outputs": [
    {
     "name": "stdout",
     "output_type": "stream",
     "text": [
      "Размер train: (6954, 50), valid: (1739, 50)\n"
     ]
    }
   ],
   "source": [
    "# Финальные X\n",
    "X_train = X_tr_dummy\n",
    "X_valid = X_vl_dummy\n",
    "X_test_final = X_ts_dummy\n",
    "\n",
    "print(f\"Размер train: {X_train.shape}, valid: {X_valid.shape}\")"
   ]
  },
  {
   "cell_type": "markdown",
   "id": "ea509cb1",
   "metadata": {},
   "source": [
    "## Сравниваем модели"
   ]
  },
  {
   "cell_type": "markdown",
   "id": "e3e1d80a",
   "metadata": {},
   "source": [
    "### Логистическая регрессия"
   ]
  },
  {
   "cell_type": "code",
   "execution_count": 92,
   "id": "994623f1",
   "metadata": {},
   "outputs": [
    {
     "name": "stdout",
     "output_type": "stream",
     "text": [
      "LogReg accuracy на val: 0.7907\n"
     ]
    }
   ],
   "source": [
    "from sklearn.preprocessing import StandardScaler\n",
    "scaler = StandardScaler()\n",
    "X_train_scaled = scaler.fit_transform(X_train)\n",
    "X_valid_scaled = scaler.transform(X_valid)\n",
    "\n",
    "logreg = LogisticRegression(max_iter=5000, random_state=42, class_weight='balanced')\n",
    "logreg.fit(X_train_scaled, y_tr)\n",
    "log_pred = logreg.predict(X_valid_scaled)\n",
    "acc_log = accuracy_score(y_vl, log_pred)\n",
    "results['Logistic Regression'] = acc_log\n",
    "print(f\"LogReg accuracy на val: {acc_log:.4f}\")"
   ]
  },
  {
   "cell_type": "markdown",
   "id": "d81e5716",
   "metadata": {},
   "source": [
    "### Дерево решений"
   ]
  },
  {
   "cell_type": "code",
   "execution_count": 93,
   "id": "1f89e843",
   "metadata": {},
   "outputs": [
    {
     "name": "stdout",
     "output_type": "stream",
     "text": [
      "Decision Tree accuracy на val: 0.7982\n"
     ]
    }
   ],
   "source": [
    "tree_model = DecisionTreeClassifier(max_depth=10, random_state=42, class_weight='balanced')\n",
    "tree_model.fit(X_train, y_tr)\n",
    "tree_pred = tree_model.predict(X_valid)\n",
    "acc_tree = accuracy_score(y_vl, tree_pred)\n",
    "results['Decision Tree'] = acc_tree\n",
    "print(f\"Decision Tree accuracy на val: {acc_tree:.4f}\")"
   ]
  },
  {
   "cell_type": "markdown",
   "id": "70e3fca2",
   "metadata": {},
   "source": [
    "### PCA"
   ]
  },
  {
   "cell_type": "code",
   "execution_count": 94,
   "id": "a315cb17",
   "metadata": {},
   "outputs": [
    {
     "name": "stdout",
     "output_type": "stream",
     "text": [
      "PCA + LogReg accuracy на val: 0.7119\n"
     ]
    }
   ],
   "source": [
    "n_comp = min(10, X_train.shape[1])  # Не больше фич\n",
    "pca_reducer = PCA(n_components=n_comp, random_state=42)\n",
    "X_train_pca = pca_reducer.fit_transform(X_train_scaled)  # Масштабированные для PCA\n",
    "X_valid_pca = pca_reducer.transform(X_valid_scaled)\n",
    "\n",
    "pca_logreg = LogisticRegression(max_iter=2000, random_state=42)\n",
    "pca_logreg.fit(X_train_pca, y_tr)\n",
    "pca_pred = pca_logreg.predict(X_valid_pca)\n",
    "acc_pca = accuracy_score(y_vl, pca_pred)\n",
    "results['PCA + Logistic'] = acc_pca\n",
    "print(f\"PCA + LogReg accuracy на val: {acc_pca:.4f}\")"
   ]
  },
  {
   "cell_type": "markdown",
   "id": "517d9869",
   "metadata": {},
   "source": [
    "### CatBoost"
   ]
  },
  {
   "cell_type": "code",
   "execution_count": 95,
   "id": "f3966e38",
   "metadata": {},
   "outputs": [
    {
     "name": "stdout",
     "output_type": "stream",
     "text": [
      "CatBoost accuracy на val: 0.8148\n"
     ]
    }
   ],
   "source": [
    "cat_model = CatBoostClassifier(\n",
    "    iterations=500,\n",
    "    depth=6,\n",
    "    learning_rate=0.1,\n",
    "    random_seed=42,\n",
    "    verbose=0,  # Без логов\n",
    "    auto_class_weights='Balanced'\n",
    ")\n",
    "cat_model.fit(X_train, y_tr)\n",
    "cat_pred = cat_model.predict(X_valid)\n",
    "acc_cat = accuracy_score(y_vl, cat_pred)\n",
    "results['CatBoost'] = acc_cat\n",
    "print(f\"CatBoost accuracy на val: {acc_cat:.4f}\")"
   ]
  },
  {
   "cell_type": "markdown",
   "id": "37e02786",
   "metadata": {},
   "source": [
    "## Анализ"
   ]
  },
  {
   "cell_type": "code",
   "execution_count": 96,
   "id": "a8b00fc4",
   "metadata": {},
   "outputs": [
    {
     "name": "stdout",
     "output_type": "stream",
     "text": [
      "\n",
      "Сравнение моделей:\n",
      "                 Model  Accuracy\n",
      "3             CatBoost  0.814836\n",
      "1        Decision Tree  0.798160\n",
      "0  Logistic Regression  0.790684\n",
      "2       PCA + Logistic  0.711903\n"
     ]
    },
    {
     "data": {
      "image/png": "[encoded data removed]",
      "text/plain": [
       "<Figure size 800x600 with 1 Axes>"
      ]
     },
     "metadata": {},
     "output_type": "display_data"
    }
   ],
   "source": [
    "comparison_df = pd.DataFrame(list(results.items()), columns=['Model', 'Accuracy'])\n",
    "print(\"\\nСравнение моделей:\")\n",
    "print(comparison_df.sort_values('Accuracy', ascending=False))\n",
    "\n",
    "if 'CatBoost' in results:\n",
    "    importances = cat_model.get_feature_importance()\n",
    "    feat_names = X_train.columns\n",
    "    top_feats = pd.DataFrame({'feature': feat_names, 'importance': importances})\n",
    "    top_feats = top_feats.nlargest(10, 'importance')  # Топ-10\n",
    "\n",
    "    import matplotlib.pyplot as plt\n",
    "    plt.figure(figsize=(8, 6))\n",
    "    plt.barh(top_feats['feature'], top_feats['importance'])\n",
    "    plt.title('Топ фичи по важности (CatBoost)')\n",
    "    plt.xlabel('Важность')\n",
    "    plt.tight_layout()\n",
    "    plt.show()"
   ]
  }
 ],
 "metadata": {
  "kernelspec": {
   "display_name": "Python 3",
   "language": "python",
   "name": "python3"
  },
  "language_info": {
   "codemirror_mode": {
    "name": "ipython",
    "version": 3
   },
   "file_extension": ".py",
   "mimetype": "text/x-python",
   "name": "python",
   "nbconvert_exporter": "python",
   "pygments_lexer": "ipython3",
   "version": "3.10.18"
  }
 },
 "nbformat": 4,
 "nbformat_minor": 5
}
